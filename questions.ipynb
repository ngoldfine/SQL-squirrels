{
 "cells": [
  {
   "cell_type": "code",
   "execution_count": 1,
   "id": "55651486",
   "metadata": {},
   "outputs": [],
   "source": [
    "import sqlite3\n",
    "\n",
    "# connect to database\n",
    "db_filename = 'squirrel_data.db'\n",
    "conn = sqlite3.connect(db_filename)\n",
    "c = conn.cursor()"
   ]
  },
  {
   "cell_type": "code",
   "execution_count": 2,
   "id": "96b86191",
   "metadata": {},
   "outputs": [],
   "source": [
    "from prettytable import PrettyTable\n",
    "\n",
    "# utility function to query the database and display results\n",
    "def table_from_query(cursor, query, table_columns, fetch_count=None):\n",
    "    if fetch_count is None:\n",
    "        f = cursor.execute(query).fetchall()\n",
    "    else:\n",
    "        f = cursor.execute(query).fetchmany(fetch_count)\n",
    "    \n",
    "    t = PrettyTable(table_columns)\n",
    "    for row in f:\n",
    "        t.add_row(row)\n",
    "        \n",
    "    print(t)"
   ]
  },
  {
   "cell_type": "markdown",
   "id": "de97ad1c",
   "metadata": {},
   "source": [
    "## 1. What was the date with the most squirrel sightings?"
   ]
  },
  {
   "cell_type": "code",
   "execution_count": 3,
   "id": "f1a51367",
   "metadata": {},
   "outputs": [
    {
     "name": "stdout",
     "output_type": "stream",
     "text": [
      "+----------+---------------------+\n",
      "|   Date   | Number of Sightings |\n",
      "+----------+---------------------+\n",
      "| 10132018 |         434         |\n",
      "+----------+---------------------+\n"
     ]
    }
   ],
   "source": [
    "query = \"\"\"SELECT \n",
    "    Date, \n",
    "    COUNT(*) AS Number_of_Sightings \n",
    "FROM squirrel_data\n",
    "GROUP BY Date\n",
    "ORDER BY Number_of_Sightings DESC\n",
    "LIMIT 1;\"\"\"\n",
    "\n",
    "columns = ('Date', 'Number of Sightings')\n",
    "\n",
    "table_from_query(c, query, columns)"
   ]
  },
  {
   "cell_type": "markdown",
   "id": "26b21ca9",
   "metadata": {},
   "source": [
    "October 13th 2018 had the most sightings. 434 squirrels were recorded on that date."
   ]
  },
  {
   "cell_type": "markdown",
   "id": "023f3bcf",
   "metadata": {},
   "source": [
    "## 2. Which squirrels run more, adults or juveniles?"
   ]
  },
  {
   "cell_type": "code",
   "execution_count": 4,
   "id": "c7fd2879",
   "metadata": {},
   "outputs": [
    {
     "name": "stdout",
     "output_type": "stream",
     "text": [
      "+----------+-----------------------------+-----------------+---------------------+\n",
      "|   Age    | Number of Running Squirrels | Total Squirrels | % Running Squirrels |\n",
      "+----------+-----------------------------+-----------------+---------------------+\n",
      "|  Adult   |             625             |       2568      |         24.3        |\n",
      "| Juvenile |              82             |       330       |         24.8        |\n",
      "+----------+-----------------------------+-----------------+---------------------+\n"
     ]
    }
   ],
   "source": [
    "# create temporary table of number of running squirrels by age\n",
    "q1 = \"DROP TABLE IF EXISTS running_by_age;\"\n",
    "q2 = \"\"\"CREATE TEMP TABLE running_by_age AS\n",
    "SELECT \n",
    "    Age, \n",
    "    COUNT(*) AS Running_Count \n",
    "FROM squirrel_data\n",
    "WHERE Running = true AND Age IN (\"Adult\", \"Juvenile\")\n",
    "GROUP BY Age;\"\"\"\n",
    "\n",
    "# create a temporary table of total number of squirrels by age\n",
    "q3 = \"DROP TABLE IF EXISTS total_by_age;\"\n",
    "q4 = \"\"\"CREATE TEMP TABLE total_by_age AS\n",
    "SELECT \n",
    "    Age, \n",
    "    COUNT(*) AS Total_Count \n",
    "FROM squirrel_data\n",
    "WHERE Age IN (\"Adult\", \"Juvenile\")\n",
    "GROUP BY Age;\"\"\"\n",
    "\n",
    "for query in (q1, q2, q3, q4):\n",
    "    c.execute(query)\n",
    "\n",
    "# calculate percentage of squirrels running in each age group\n",
    "q5 = \"\"\"SELECT \n",
    "    t1.Age, \n",
    "    t1.Running_Count, \n",
    "    t2.Total_Count, \n",
    "    ROUND(100.0 * t1.Running_Count / t2.Total_Count, 1) AS Percentage_Running\n",
    "FROM running_by_age AS t1\n",
    "JOIN total_by_age AS t2\n",
    "ON t1.Age = t2.Age;\"\"\"\n",
    "\n",
    "columns = ('Age', 'Number of Running Squirrels', 'Total Squirrels', '% Running Squirrels')\n",
    "\n",
    "table_from_query(c, q5, columns)"
   ]
  },
  {
   "cell_type": "markdown",
   "id": "199a6350",
   "metadata": {},
   "source": [
    "Adult squirrels and juvenile squirrels are roughly equally likely to be running. The \"% Running Squirrels\" column shows the percent of squirrels in each age category that were observed running. 24.3% of adult squirrels ran, compared to 24.8% of juveniles.\n",
    "\n",
    "Most of the squirrels seen running were adults, as seen in the \"Number of Running Squirrels\" column. However, this does not mean that adult squirrels are more likely to run. Instead, it reflects that most recorded squirrel sightings were of adult squirrels (demonstrated by the \"Total Squirrels\" column)."
   ]
  },
  {
   "cell_type": "markdown",
   "id": "4e6ff813",
   "metadata": {},
   "source": [
    "## 3. In which areas are squirrels more willing to approach humans?"
   ]
  },
  {
   "cell_type": "code",
   "execution_count": 5,
   "id": "46d150b5",
   "metadata": {},
   "outputs": [
    {
     "name": "stdout",
     "output_type": "stream",
     "text": [
      "+---------+---------------------------------+-----------------+-------------------------+\n",
      "| Hectare | Number of Approaching Squirrels | Total Squirrels | % Approaching Squirrels |\n",
      "+---------+---------------------------------+-----------------+-------------------------+\n",
      "|   23D   |                1                |        1        |          100.0          |\n",
      "|   22E   |                1                |        2        |           50.0          |\n",
      "|   34B   |                2                |        4        |           50.0          |\n",
      "|   39I   |                2                |        4        |           50.0          |\n",
      "|   03A   |                5                |        11       |           45.5          |\n",
      "|   20C   |                4                |        9        |           44.4          |\n",
      "|   17I   |                2                |        5        |           40.0          |\n",
      "|   04B   |                4                |        11       |           36.4          |\n",
      "|   05G   |                2                |        6        |           33.3          |\n",
      "|   08A   |                3                |        9        |           33.3          |\n",
      "+---------+---------------------------------+-----------------+-------------------------+\n"
     ]
    }
   ],
   "source": [
    "# create temporary table of squirrels aproaching by hectare\n",
    "q1 = \"DROP TABLE IF EXISTS approaching_by_hectare;\"\n",
    "q2 = \"\"\"CREATE TEMP TABLE approaching_by_hectare AS\n",
    "SELECT \n",
    "    Hectare, \n",
    "    COUNT(*) AS Approaching_Count \n",
    "FROM squirrel_data\n",
    "WHERE Approaches = true\n",
    "GROUP BY Hectare;\"\"\"\n",
    "\n",
    "# create temporary table of total squirrels by hectare\n",
    "q3 = \"DROP TABLE IF EXISTS total_by_hectare;\"\n",
    "q4 = \"\"\"CREATE TEMP TABLE total_by_hectare AS\n",
    "SELECT \n",
    "    Hectare, \n",
    "    COUNT(*) AS Total_Count\n",
    "FROM squirrel_data\n",
    "GROUP BY Hectare;\"\"\"\n",
    "\n",
    "for query in (q1, q2, q3, q4):\n",
    "    c.execute(query)\n",
    "\n",
    "# calculate percentage of squirrels approaching in each hectare\n",
    "q5 = \"\"\"SELECT \n",
    "    t1.Hectare, \n",
    "    t1.Approaching_Count, \n",
    "    t2.Total_Count, \n",
    "    ROUND(100.0 * t1.Approaching_Count / t2.Total_Count, 1) AS Percentage_Approaching\n",
    "FROM approaching_by_hectare AS t1\n",
    "JOIN total_by_hectare AS t2\n",
    "ON t1.Hectare = t2.Hectare\n",
    "ORDER BY Percentage_Approaching DESC\n",
    "LIMIT 10;\"\"\"\n",
    "\n",
    "columns = ('Hectare', 'Number of Approaching Squirrels', 'Total Squirrels', '% Approaching Squirrels')\n",
    "\n",
    "table_from_query(c, q5, columns)"
   ]
  },
  {
   "cell_type": "markdown",
   "id": "b528d86d",
   "metadata": {},
   "source": [
    "The table above shows the 10 hectares with the greatest percentage of squirrels that approached humans (hectares 23D, 22E, 34B, 39I, 03A, 20C, 17I, 04B, 05G and 08A). However, because the sample sizes from these areas were very small (between 1 and 11 squirrels) the percentages of squirrels that approached may not reflect the likelihood of approaching humans in the full population."
   ]
  },
  {
   "cell_type": "markdown",
   "id": "1219d93c",
   "metadata": {},
   "source": [
    "## 4. Do squirrels that approach humans eat more frequently?"
   ]
  },
  {
   "cell_type": "code",
   "execution_count": 6,
   "id": "b27e5ac6",
   "metadata": {},
   "outputs": [
    {
     "name": "stdout",
     "output_type": "stream",
     "text": [
      "+------------+----------------------------+-----------------+--------------------+\n",
      "| Approaches | Number of Eating Squirrels | Total Squirrels | % Eating Squirrels |\n",
      "+------------+----------------------------+-----------------+--------------------+\n",
      "|     0      |            693             |       2845      |        24.4        |\n",
      "|     1      |             67             |       178       |        37.6        |\n",
      "+------------+----------------------------+-----------------+--------------------+\n"
     ]
    }
   ],
   "source": [
    "# create temporary table of number of squirrels seen eating, grouped by whether or not they approach humans\n",
    "q1 = \"DROP TABLE IF EXISTS eating_by_approaching\"\n",
    "q2 = \"\"\"CREATE TEMP TABLE eating_by_approaching AS\n",
    "SELECT \n",
    "    Approaches, \n",
    "    COUNT(*) AS Eating_Count \n",
    "FROM squirrel_data\n",
    "WHERE Eating = true\n",
    "GROUP BY Approaches;\"\"\"\n",
    "\n",
    "# create temporary table of total number of squirrels seen, grouped by whether or not they approach humans \n",
    "q3 = \"DROP TABLE IF EXISTS squirrels_by_approaching\"\n",
    "q4 = \"\"\"CREATE TEMP TABLE squirrels_by_approaching AS\n",
    "SELECT \n",
    "    Approaches, \n",
    "    COUNT(*) AS Squirrel_Count \n",
    "FROM squirrel_data\n",
    "GROUP BY Approaches;\"\"\"\n",
    "\n",
    "for query in (q1, q2, q3, q4):\n",
    "    c.execute(query)\n",
    "    \n",
    "q5 = \"\"\"SELECT\n",
    "    t1.Approaches,\n",
    "    t1.Eating_Count,\n",
    "    t2.Squirrel_Count,\n",
    "    ROUND(100.0 * t1.Eating_Count / t2.Squirrel_Count, 1) AS Percentage_Eating\n",
    "FROM eating_by_approaching AS t1\n",
    "JOIN squirrels_by_approaching AS t2\n",
    "ON t1.Approaches = t2.Approaches\"\"\"\n",
    "\n",
    "columns = ('Approaches', 'Number of Eating Squirrels', 'Total Squirrels', '% Eating Squirrels')\n",
    "\n",
    "table_from_query(c, q5, columns)"
   ]
  },
  {
   "cell_type": "markdown",
   "id": "f8d89ae4",
   "metadata": {},
   "source": [
    "The squirrels that approached humans were about 13% more likely to be seen eating than the squirrels that did not approach."
   ]
  },
  {
   "cell_type": "markdown",
   "id": "0cde6971",
   "metadata": {},
   "source": [
    "## 5. Are squirrels that run away from humans more likely to quaa or moan?\n",
    "\n",
    "The data includes columns of squirrel vocalizations that have different meanings. According to the data source, when a squirrel quaas it means they have seen a land predator. Moans indicate a squirrel has spotted an air predator."
   ]
  },
  {
   "cell_type": "code",
   "execution_count": 7,
   "id": "4b7d0ec3",
   "metadata": {},
   "outputs": [
    {
     "name": "stdout",
     "output_type": "stream",
     "text": [
      "+--------------------+------------+------------+\n",
      "| Total Running Away | Quaa Count | Moan Count |\n",
      "+--------------------+------------+------------+\n",
      "|        678         |     9      |     2      |\n",
      "+--------------------+------------+------------+\n"
     ]
    }
   ],
   "source": [
    "query = \"\"\"SELECT \n",
    "    COUNT(*) AS Running_Count, \n",
    "    SUM(Quaas) AS Quaa_Count, \n",
    "    SUM(Moans) AS Moan_Count \n",
    "FROM squirrel_data\n",
    "WHERE [Runs from] = true\"\"\"\n",
    "\n",
    "columns = ('Total Running Away', 'Quaa Count', 'Moan Count')\n",
    "\n",
    "table_from_query(c, query, columns)"
   ]
  },
  {
   "cell_type": "markdown",
   "id": "68d14c93",
   "metadata": {},
   "source": [
    "Most squirrels that seen running from humans did not make either vocalization. The squirrels that vocalized were more likely to indicate that they had seen a land predator (by quaaing) than indicate they'd seen an air predator (by moaning)."
   ]
  },
  {
   "cell_type": "markdown",
   "id": "2d6f24ca",
   "metadata": {},
   "source": [
    "## 6. Which areas have the most squirrels of each fur color"
   ]
  },
  {
   "cell_type": "code",
   "execution_count": 8,
   "id": "f67bd503",
   "metadata": {},
   "outputs": [
    {
     "name": "stdout",
     "output_type": "stream",
     "text": [
      "\n",
      "Most common locations of gray squirrels:\n",
      "+---------+---------------------+\n",
      "| Hectare | Gray Squirrel Count |\n",
      "+---------+---------------------+\n",
      "|   14D   |          32         |\n",
      "|   14E   |          28         |\n",
      "|   32E   |          26         |\n",
      "+---------+---------------------+\n",
      "\n",
      "Most common locations of black squirrels:\n",
      "+---------+----------------------+\n",
      "| Hectare | Black Squirrel Count |\n",
      "+---------+----------------------+\n",
      "|   33D   |          8           |\n",
      "|   33E   |          7           |\n",
      "|   32E   |          4           |\n",
      "+---------+----------------------+\n",
      "\n",
      "Most common locations of cinnamon squirrels:\n",
      "+---------+-------------------------+\n",
      "| Hectare | Cinnamon Squirrel Count |\n",
      "+---------+-------------------------+\n",
      "|   04D   |            14           |\n",
      "|   03D   |            12           |\n",
      "|   05C   |            10           |\n",
      "+---------+-------------------------+\n"
     ]
    }
   ],
   "source": [
    "for color in ('Gray', 'Black', 'Cinnamon'):\n",
    "    query = f\"\"\"SELECT \n",
    "        Hectare, \n",
    "        COUNT(*) AS {color}_Count \n",
    "    FROM squirrel_data\n",
    "    WHERE [Primary Fur Color] LIKE \"{color}\"\n",
    "    GROUP BY Hectare\n",
    "    ORDER BY {color}_Count DESC\n",
    "    LIMIT 3;\"\"\"\n",
    "    \n",
    "    columns = ('Hectare', f'{color} Squirrel Count')\n",
    "    \n",
    "    print(f'\\nMost common locations of {color.lower()} squirrels:')\n",
    "    table_from_query(c, query, columns)"
   ]
  },
  {
   "cell_type": "markdown",
   "id": "2ef38ed3",
   "metadata": {},
   "source": [
    "Squirrels with different primary fur colors are most commonly found in different locations. Hectares 14D, 14E and 32E had the greatest number of gray squirrel sightings. Black squirrels were seen most often in hectares 33D, 33E and 32E. The hectares with the most cinnamon squirrel sightings were 04D, 03D and 05C."
   ]
  },
  {
   "cell_type": "markdown",
   "id": "715c2743",
   "metadata": {},
   "source": [
    "## 7. How many squirrels engaged in each activity in the AM? In the PM?"
   ]
  },
  {
   "cell_type": "code",
   "execution_count": 9,
   "id": "529f4b4c",
   "metadata": {},
   "outputs": [
    {
     "name": "stdout",
     "output_type": "stream",
     "text": [
      "+-------+---------------+---------------+----------------+--------------+----------------+\n",
      "| Shift | Running Count | Chasing Count | Climbing Count | Eating Count | Foraging Count |\n",
      "+-------+---------------+---------------+----------------+--------------+----------------+\n",
      "|   AM  |      327      |      131      |      340       |     296      |      601       |\n",
      "|   PM  |      403      |      148      |      318       |     464      |      834       |\n",
      "+-------+---------------+---------------+----------------+--------------+----------------+\n"
     ]
    }
   ],
   "source": [
    "query = \"\"\"SELECT \n",
    "    Shift,\n",
    "    SUM(Running) AS Running_Count,\n",
    "    SUM(Chasing) AS Chasing_Count,\n",
    "    SUM(Climbing) AS Climbing_Count,\n",
    "    SUM(Eating) AS Eating_Count,\n",
    "    SUM(Foraging) AS Foraging_Count\n",
    "FROM squirrel_data\n",
    "GROUP BY Shift;\"\"\"\n",
    "columns = ('Shift', 'Running Count', 'Chasing Count', 'Climbing Count', 'Eating Count', 'Foraging Count')\n",
    "table_from_query(c, query, columns)"
   ]
  },
  {
   "cell_type": "markdown",
   "id": "bb5dea3b",
   "metadata": {},
   "source": [
    "In both the AM and the PM, the most squirrel activity recorded was foraging. 601 squirrels were seen foraging in the AM and 834 foraged in the PM. The least common activity at both times of day was chasing (131 squirrels in the AM, 148 in the PM)."
   ]
  },
  {
   "cell_type": "markdown",
   "id": "6bef222b",
   "metadata": {},
   "source": [
    "## 8. Are squirrels with certain fur colors more likely to approach humans?"
   ]
  },
  {
   "cell_type": "code",
   "execution_count": 10,
   "id": "24fa228a",
   "metadata": {},
   "outputs": [
    {
     "name": "stdout",
     "output_type": "stream",
     "text": [
      "+-----------+---------------+\n",
      "| Fur Color | % Approaching |\n",
      "+-----------+---------------+\n",
      "|  Cinnamon |      11.2     |\n",
      "|   Black   |      5.8      |\n",
      "|    Gray   |      5.1      |\n",
      "+-----------+---------------+\n"
     ]
    }
   ],
   "source": [
    "q1 = \"DROP TABLE IF EXISTS approaching_by_fur_color;\"\n",
    "q2 = \"\"\"CREATE TEMP TABLE approaching_by_fur_color AS\n",
    "SELECT \n",
    "    [Primary Fur Color], \n",
    "    COUNT(*) AS Approaching_Count\n",
    "FROM squirrel_data\n",
    "WHERE Approaches = true AND [Primary Fur Color] NOT NULL\n",
    "GROUP BY [Primary Fur Color];\"\"\"\n",
    "\n",
    "q3 = \"DROP TABLE IF EXISTS squirrels_by_fur_color;\"\n",
    "q4 = \"\"\"CREATE TEMP TABLE squirrels_by_fur_color AS\n",
    "SELECT \n",
    "    [Primary Fur Color], \n",
    "    COUNT(*) AS Squirrel_Count\n",
    "FROM squirrel_data\n",
    "WHERE [Primary Fur Color] NOT NULL\n",
    "GROUP BY [Primary Fur Color];\"\"\"\n",
    "\n",
    "for query in (q1, q2, q3, q4):\n",
    "    c.execute(query)\n",
    "    \n",
    "q5 = \"\"\"SELECT\n",
    "    t1.[Primary Fur Color],\n",
    "    ROUND(100.0 * t1.Approaching_Count / t2.Squirrel_Count, 1) AS Percentage_Approaching\n",
    "FROM approaching_by_fur_color AS t1\n",
    "JOIN squirrels_by_fur_color AS t2\n",
    "ON t1.[Primary Fur Color] = t2.[Primary Fur Color]\n",
    "ORDER BY Percentage_Approaching DESC;\"\"\"\n",
    "cols = ('Fur Color', '% Approaching')\n",
    "table_from_query(c, q5, cols)"
   ]
  },
  {
   "cell_type": "markdown",
   "id": "c36aaea1",
   "metadata": {},
   "source": [
    "Cinnamon-colored squirrels were most likely to approach humans. They were roughly twice as likely to approach as squirrels with other fur colors."
   ]
  },
  {
   "cell_type": "markdown",
   "id": "f315e4b5",
   "metadata": {},
   "source": [
    "## 9. How many squirrels made more than one vocalization? What vocalizations did these squirrels make?"
   ]
  },
  {
   "cell_type": "code",
   "execution_count": 11,
   "id": "03b3bbd0",
   "metadata": {},
   "outputs": [
    {
     "name": "stdout",
     "output_type": "stream",
     "text": [
      "+------------------------+----------------+----------------+-----------------+-------------------+\n",
      "| Multiple Vocalizations | Kuks and Quaas | Kuks and Moans | Quaas and Moans | All Vocalizations |\n",
      "+------------------------+----------------+----------------+-----------------+-------------------+\n",
      "|           16           |       15       |       0        |        1        |         0         |\n",
      "+------------------------+----------------+----------------+-----------------+-------------------+\n"
     ]
    }
   ],
   "source": [
    "query = \"\"\"WITH multiple_vocalizations AS (\n",
    "    SELECT\n",
    "        Kuks + Quaas + Moans AS Vocalization_Count,\n",
    "        Kuks + Quaas = 2 AS Kuks_and_Quaas,\n",
    "        Kuks + Moans = 2 AS Kuks_and_Moans,\n",
    "        Quaas + Moans = 2 AS Quaas_and_Moans,\n",
    "        Kuks + Quaas + Moans = 3 AS Kuks_Quaas_and_Moans\n",
    "    FROM squirrel_data\n",
    ")\n",
    "SELECT\n",
    "    COUNT(*) AS Multiple_Vocalizations_Count,\n",
    "    SUM(Kuks_and_Quaas) AS Kuks_and_Quaas_Count,\n",
    "    SUM(Kuks_and_Moans) AS Kuks_and_Moans_Count,\n",
    "    SUM(Quaas_and_Moans) AS Quaas_and_Moans_Count,\n",
    "    SUM(Kuks_Quaas_and_Moans) AS Kuks_Quaas_and_Moans_Count\n",
    "FROM multiple_vocalizations\n",
    "WHERE Vocalization_Count > 1;\"\"\"\n",
    "\n",
    "cols = ('Multiple Vocalizations', 'Kuks and Quaas', 'Kuks and Moans', \n",
    "        'Quaas and Moans', 'All Vocalizations')\n",
    "\n",
    "table_from_query(c, query, cols)"
   ]
  },
  {
   "cell_type": "markdown",
   "id": "e7428c3f",
   "metadata": {},
   "source": [
    "Squirrel vocalizations recorded in the data are kuks, quaas and moans. 16 squirrels made multiple vocalizations during a sighting. Of these squirrels, 15 kukked and quaaed, and 1 quaaed and moaned."
   ]
  },
  {
   "cell_type": "markdown",
   "id": "b686dad1",
   "metadata": {},
   "source": [
    "## 10. What are the mean and median number of squirrel sightings per day?"
   ]
  },
  {
   "cell_type": "code",
   "execution_count": 12,
   "id": "24a5c0fb",
   "metadata": {},
   "outputs": [
    {
     "name": "stdout",
     "output_type": "stream",
     "text": [
      "Average daily squirrel sightings: 274.82\n",
      "Median daily squirrel sightings: 285.0\n"
     ]
    }
   ],
   "source": [
    "# get the number of sightings for each date\n",
    "q1 = \"DROP TABLE IF EXISTS sightings_by_date\"\n",
    "q2 = \"\"\"CREATE TEMP TABLE sightings_by_date AS\n",
    "SELECT \n",
    "    Date, \n",
    "    COUNT(*) AS Number_of_Sightings \n",
    "FROM squirrel_data\n",
    "GROUP BY Date\n",
    "ORDER BY Number_of_Sightings\"\"\"\n",
    "c.execute(q1)\n",
    "c.execute(q2)\n",
    "\n",
    "# get the average sightings per day\n",
    "q3 = \"\"\"SELECT ROUND(AVG(Number_of_Sightings), 2) \n",
    "FROM sightings_by_date\"\"\"\n",
    "mean = c.execute(q3).fetchone()[0]\n",
    "print(f'Average daily squirrel sightings: {mean}')\n",
    "\n",
    "# get the median sightings per day\n",
    "# (SQLite doesn't have a median function, so we're doing this the hard way)\n",
    "q4 = \"\"\"SELECT ROUND(AVG(Number_of_Sightings), 2)\n",
    "FROM (SELECT Number_of_Sightings\n",
    "    FROM sightings_by_date\n",
    "    LIMIT 2 - (SELECT COUNT(*) FROM sightings_by_date) % 2\n",
    "    OFFSET (SELECT (COUNT(*) - 1) / 2 \n",
    "        FROM sightings_by_date))\"\"\"\n",
    "median = c.execute(q4).fetchone()[0]\n",
    "print(f'Median daily squirrel sightings: {median}')"
   ]
  },
  {
   "cell_type": "markdown",
   "id": "ec6400c4",
   "metadata": {},
   "source": [
    "On the days that squirrel sightings were recorded, 274.82 squirrels were seen on average. The median number of daily squirrel sightings was 285. "
   ]
  },
  {
   "cell_type": "code",
   "execution_count": null,
   "id": "779c63d1",
   "metadata": {},
   "outputs": [],
   "source": []
  }
 ],
 "metadata": {
  "kernelspec": {
   "display_name": "Python 3 (ipykernel)",
   "language": "python",
   "name": "python3"
  },
  "language_info": {
   "codemirror_mode": {
    "name": "ipython",
    "version": 3
   },
   "file_extension": ".py",
   "mimetype": "text/x-python",
   "name": "python",
   "nbconvert_exporter": "python",
   "pygments_lexer": "ipython3",
   "version": "3.8.18"
  }
 },
 "nbformat": 4,
 "nbformat_minor": 5
}
