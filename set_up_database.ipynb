{
 "cells": [
  {
   "cell_type": "code",
   "execution_count": null,
   "id": "635448a5",
   "metadata": {},
   "outputs": [],
   "source": [
    "import sqlite3\n",
    "from pathlib import Path\n",
    "\n",
    "db_filename = 'squirrel_data.db'\n",
    "\n",
    "# create empty database\n",
    "Path(db_filename).touch()\n",
    "\n",
    "# connect to database\n",
    "conn = sqlite3.connect(db_filename)\n",
    "c = conn.cursor()\n",
    "\n",
    "# column name to datatype dictionary\n",
    "column2type = {\n",
    "    'X' : 'real',\n",
    "    'Y' : 'real',\n",
    "    '[Unique Squirrel ID]' : 'text',\n",
    "    'Hectare' : 'text',\n",
    "    'Shift' : 'text',\n",
    "    'Date' : 'int',\n",
    "    '[Hectare Squirrel Number]' : 'int',\n",
    "    'Age' : 'text',\n",
    "    '[Primary Fur Color]' : 'text',\n",
    "    '[Highlight Fur Color]' : 'text', \n",
    "    '[Combination of Primary and Highlight Color]' : 'text',\n",
    "    '[Color notes]' : 'text', \n",
    "    'Location' : 'text', \n",
    "    '[Above Ground Sighter Measurement]' : 'text',\n",
    "    '[Specific Location]' : 'text', \n",
    "    'Running' : 'int', \n",
    "    'Chasing' : 'int', \n",
    "    'Climbing' : 'int', \n",
    "    'Eating' : 'int',\n",
    "    'Foraging' : 'int', \n",
    "    '[Other Activities]' : 'text', \n",
    "    'Kuks' : 'int', \n",
    "    'Quaas' : 'int', \n",
    "    'Moans' : 'int', \n",
    "    '[Tail flags]' : 'int', \n",
    "    '[Tail twitches]' : 'int', \n",
    "    'Approaches' : 'int', \n",
    "    'Indifferent' : 'int',\n",
    "    '[Runs from]' : 'int', \n",
    "    '[Other Interactions]' : 'text', \n",
    "    '[Lat/Long]' : 'text'\n",
    "          }\n",
    "\n",
    "# make sql command for creating table\n",
    "command = 'CREATE TABLE squirrel_data ('\n",
    "for col, dtype in column2type.items():\n",
    "    command += f'{col} {dtype}, '\n",
    "command = command[:-2] + ');' # remove final ', ' and finish command\n",
    "\n",
    "# create table\n",
    "c.execute(command)"
   ]
  },
  {
   "cell_type": "code",
   "execution_count": null,
   "id": "42f79ad9",
   "metadata": {},
   "outputs": [],
   "source": [
    "import pandas as pd\n",
    "\n",
    "csv_filename = '2018_Central_Park_Squirrel_Census_-_Squirrel_Data_20240331.csv'\n",
    "\n",
    "# open csv file\n",
    "squirrel_data = pd.read_csv(csv_filename)\n",
    "\n",
    "# add table to database\n",
    "squirrel_data.to_sql('squirrel_data', conn, if_exists='append', index=False)"
   ]
  }
 ],
 "metadata": {
  "kernelspec": {
   "display_name": "Python 3 (ipykernel)",
   "language": "python",
   "name": "python3"
  },
  "language_info": {
   "codemirror_mode": {
    "name": "ipython",
    "version": 3
   },
   "file_extension": ".py",
   "mimetype": "text/x-python",
   "name": "python",
   "nbconvert_exporter": "python",
   "pygments_lexer": "ipython3",
   "version": "3.8.18"
  }
 },
 "nbformat": 4,
 "nbformat_minor": 5
}
